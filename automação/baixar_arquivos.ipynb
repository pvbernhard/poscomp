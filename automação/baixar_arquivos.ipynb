{
 "cells": [
  {
   "attachments": {},
   "cell_type": "markdown",
   "metadata": {},
   "source": [
    "# Bibliotecas"
   ]
  },
  {
   "cell_type": "code",
   "execution_count": 14,
   "metadata": {},
   "outputs": [],
   "source": [
    "import os\n",
    "import re\n",
    "\n",
    "import requests\n",
    "from bs4 import BeautifulSoup\n",
    "\n",
    "from pprint import pprint\n",
    "from tqdm.notebook import tqdm as pbar"
   ]
  },
  {
   "attachments": {},
   "cell_type": "markdown",
   "metadata": {},
   "source": [
    "# Variáveis"
   ]
  },
  {
   "cell_type": "code",
   "execution_count": 15,
   "metadata": {},
   "outputs": [],
   "source": [
    "url_base = 'https://www.sbc.org.br'\n",
    "url_provas = f'{url_base}/documentos-da-sbc/category/153-provas-e-gabaritos-do-poscomp'\n",
    "url_editais = f'{url_base}/documentos-da-sbc/category/186-editais'\n",
    "url_outros = f'{url_base}/documentos-da-sbc/category/185-poscomp'"
   ]
  },
  {
   "attachments": {},
   "cell_type": "markdown",
   "metadata": {},
   "source": [
    "# Download"
   ]
  },
  {
   "attachments": {},
   "cell_type": "markdown",
   "metadata": {},
   "source": [
    "## Provas e Gabaritos"
   ]
  },
  {
   "cell_type": "code",
   "execution_count": 16,
   "metadata": {},
   "outputs": [],
   "source": [
    "res = requests.get(url_provas)\n",
    "html = res.text\n",
    "soup = BeautifulSoup(html, 'html.parser')"
   ]
  },
  {
   "cell_type": "code",
   "execution_count": 17,
   "metadata": {},
   "outputs": [
    {
     "name": "stdout",
     "output_type": "stream",
     "text": [
      "{'2002': 'https://www.sbc.org.br/documentos-da-sbc/category/158-2002',\n",
      " '2003': 'https://www.sbc.org.br/documentos-da-sbc/category/162-2003',\n",
      " '2004': 'https://www.sbc.org.br/documentos-da-sbc/category/156-2004',\n",
      " '2005': 'https://www.sbc.org.br/documentos-da-sbc/category/161-2005',\n",
      " '2006': 'https://www.sbc.org.br/documentos-da-sbc/category/159-2006',\n",
      " '2007': 'https://www.sbc.org.br/documentos-da-sbc/category/163-2007',\n",
      " '2008': 'https://www.sbc.org.br/documentos-da-sbc/category/154-2008',\n",
      " '2009': 'https://www.sbc.org.br/documentos-da-sbc/category/155-2009',\n",
      " '2010': 'https://www.sbc.org.br/documentos-da-sbc/category/160-2010',\n",
      " '2011': 'https://www.sbc.org.br/documentos-da-sbc/category/157-2011',\n",
      " '2012': 'https://www.sbc.org.br/documentos-da-sbc/category/179-2012',\n",
      " '2013': 'https://www.sbc.org.br/documentos-da-sbc/category/180-2013',\n",
      " '2014': 'https://www.sbc.org.br/documentos-da-sbc/category/181-2014',\n",
      " '2015': 'https://www.sbc.org.br/documentos-da-sbc/category/192-2015',\n",
      " '2016': 'https://www.sbc.org.br/documentos-da-sbc/category/194-2016',\n",
      " '2017': 'https://www.sbc.org.br/documentos-da-sbc/category/201-2017',\n",
      " '2018': 'https://www.sbc.org.br/documentos-da-sbc/category/202-2018',\n",
      " '2019': 'https://www.sbc.org.br/documentos-da-sbc/category/212-2019',\n",
      " '2022': 'https://www.sbc.org.br/documentos-da-sbc/category/239-2022'}\n"
     ]
    }
   ],
   "source": [
    "links = {}\n",
    "\n",
    "for link in soup.find_all('a'):  # todos os links\n",
    "  if link.get('href').find('category') >= 0 and not link.find('img') and link.text != 'Up':\n",
    "    # 'category' na url, não é uma img, o texto não é 'Up' (link para a categoria superior)\n",
    "    links[link.get_text()] = url_base + link.get('href')\n",
    "\n",
    "pprint(links)"
   ]
  },
  {
   "cell_type": "code",
   "execution_count": 18,
   "metadata": {},
   "outputs": [],
   "source": [
    "def get_links_arquivos(link):\n",
    "  if 'title' in link.attrs and link.attrs['title'] == 'Download' and link.get_text() != 'Download':\n",
    "    return True\n",
    "  return False\n",
    "\n",
    "def get_tipo_arquivo(link_arquivo, links_pagina):\n",
    "  links_relacionados = filter(\n",
    "    lambda link: link.get('href') == link_arquivo.get('href'),\n",
    "    links_pagina\n",
    "  )\n",
    "  for link in links_relacionados:\n",
    "    img = link.find_all('img')\n",
    "    if img and 'alt' in img[0].attrs:\n",
    "      return img[0].attrs['alt'].split('.')[0]"
   ]
  },
  {
   "cell_type": "code",
   "execution_count": 19,
   "metadata": {},
   "outputs": [
    {
     "data": {
      "application/vnd.jupyter.widget-view+json": {
       "model_id": "46ad333ebcef455fb4b9dccfbcc37b79",
       "version_major": 2,
       "version_minor": 0
      },
      "text/plain": [
       "  0%|          | 0/19 [00:00<?, ?it/s]"
      ]
     },
     "metadata": {},
     "output_type": "display_data"
    }
   ],
   "source": [
    "for ano in pbar(links.keys()):\n",
    "  url = links[ano]\n",
    "  res = requests.get(url)\n",
    "  html = res.text\n",
    "  soup = BeautifulSoup(html, 'html.parser')\n",
    "\n",
    "  links_pagina = soup.find_all('a')\n",
    "  links_arquivos = list(filter(\n",
    "    get_links_arquivos,\n",
    "    links_pagina,\n",
    "  ))\n",
    "\n",
    "  for link in links_arquivos:\n",
    "    url_arquivo = link.get('href')\n",
    "    \n",
    "    nome_arquivo = link.get_text()\n",
    "    # tipo_arquivo = get_tipo_arquivo(link, links_pagina)\n",
    "    tipo_arquivo = 'pdf'\n",
    "    # todos os arquivos são pdf apesar de alguns estarem com ícone de zip\n",
    "\n",
    "    caminho_pasta = os.path.join('..', 'arquivos', 'provas-e-gabaritos', ano)\n",
    "    os.makedirs(caminho_pasta, exist_ok=True)\n",
    "    caminho_arquivo = f'{caminho_pasta}/{nome_arquivo}.{tipo_arquivo}'\n",
    "\n",
    "    if not os.path.isfile(caminho_arquivo):\n",
    "      arquivo = requests.get(url_base + url_arquivo.replace('summary', 'send'))\n",
    "      with open(caminho_arquivo, 'wb+') as f:\n",
    "        f.write(arquivo.content)"
   ]
  },
  {
   "attachments": {},
   "cell_type": "markdown",
   "metadata": {},
   "source": [
    "## Editais"
   ]
  },
  {
   "cell_type": "code",
   "execution_count": 20,
   "metadata": {},
   "outputs": [],
   "source": [
    "res = requests.get(url_editais)\n",
    "html = res.text\n",
    "soup = BeautifulSoup(html, 'html.parser')"
   ]
  },
  {
   "cell_type": "code",
   "execution_count": 21,
   "metadata": {},
   "outputs": [
    {
     "data": {
      "application/vnd.jupyter.widget-view+json": {
       "model_id": "09b01cc21fa14d0aa45243de340fb395",
       "version_major": 2,
       "version_minor": 0
      },
      "text/plain": [
       "  0%|          | 0/8 [00:00<?, ?it/s]"
      ]
     },
     "metadata": {},
     "output_type": "display_data"
    }
   ],
   "source": [
    "links_pagina = soup.find_all('a')\n",
    "links_arquivos = list(filter(\n",
    "  get_links_arquivos,\n",
    "  links_pagina\n",
    "))\n",
    "\n",
    "for link in pbar(links_arquivos):\n",
    "  url_arquivo = link.get('href')\n",
    "\n",
    "  nome_arquivo = link.get_text()\n",
    "  tipo_arquivo = 'pdf'\n",
    "\n",
    "  caminho_pasta = os.path.join('..', 'arquivos', 'editais')\n",
    "  os.makedirs(caminho_pasta, exist_ok=True)\n",
    "  caminho_arquivo = f'{caminho_pasta}/{nome_arquivo}.{tipo_arquivo}'\n",
    "\n",
    "  if not os.path.isfile(caminho_arquivo):\n",
    "    arquivo = requests.get(url_base + url_arquivo.replace('summary', 'send'))\n",
    "    with open(caminho_arquivo, 'wb+') as f:\n",
    "      f.write(arquivo.content)"
   ]
  },
  {
   "attachments": {},
   "cell_type": "markdown",
   "metadata": {},
   "source": [
    "## Outros"
   ]
  },
  {
   "cell_type": "code",
   "execution_count": 22,
   "metadata": {},
   "outputs": [],
   "source": [
    "res = requests.get(url_outros)\n",
    "html = res.text\n",
    "soup = BeautifulSoup(html, 'html.parser')"
   ]
  },
  {
   "cell_type": "code",
   "execution_count": 23,
   "metadata": {},
   "outputs": [
    {
     "data": {
      "application/vnd.jupyter.widget-view+json": {
       "model_id": "d350bae422ae4eb48f2cf43eb153ebb6",
       "version_major": 2,
       "version_minor": 0
      },
      "text/plain": [
       "  0%|          | 0/2 [00:00<?, ?it/s]"
      ]
     },
     "metadata": {},
     "output_type": "display_data"
    }
   ],
   "source": [
    "links_pagina = soup.find_all('a')\n",
    "links_arquivos = list(filter(\n",
    "  get_links_arquivos,\n",
    "  links_pagina\n",
    "))\n",
    "\n",
    "for link in pbar(links_arquivos):\n",
    "  url_arquivo = link.get('href')\n",
    "\n",
    "  nome_arquivo = link.get_text()\n",
    "  tipo_arquivo = 'pdf'\n",
    "  \n",
    "  caminho_pasta = os.path.join('..', 'arquivos', 'outros')\n",
    "  os.makedirs(caminho_pasta, exist_ok=True)\n",
    "  caminho_arquivo = f'{caminho_pasta}/{nome_arquivo}.{tipo_arquivo}'\n",
    "\n",
    "  if not os.path.isfile(caminho_arquivo):\n",
    "    arquivo = requests.get(url_base + url_arquivo.replace('summary', 'send'))\n",
    "    with open(caminho_arquivo, 'wb+') as f:\n",
    "      f.write(arquivo.content)"
   ]
  }
 ],
 "metadata": {
  "kernelspec": {
   "display_name": "base",
   "language": "python",
   "name": "python3"
  },
  "language_info": {
   "codemirror_mode": {
    "name": "ipython",
    "version": 3
   },
   "file_extension": ".py",
   "mimetype": "text/x-python",
   "name": "python",
   "nbconvert_exporter": "python",
   "pygments_lexer": "ipython3",
   "version": "3.9.16"
  },
  "orig_nbformat": 4,
  "vscode": {
   "interpreter": {
    "hash": "b9af37e001c1ce7379124c6ef40057bd6dd3e48a10cdc37b9d9ee8156f2f1d09"
   }
  }
 },
 "nbformat": 4,
 "nbformat_minor": 2
}
